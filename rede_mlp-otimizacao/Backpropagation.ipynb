{
  "cells": [
    {
      "cell_type": "code",
      "execution_count": 24,
      "metadata": {
        "id": "gquVOlEzAIeg"
      },
      "outputs": [
        {
          "name": "stdout",
          "output_type": "stream",
          "text": [
            "fatal: destination path 'redes_neurais_pos' already exists and is not an empty directory.\n"
          ]
        }
      ],
      "source": [
        "!git clone https://github.com/valmirf/redes_neurais_pos.git"
      ]
    },
    {
      "cell_type": "markdown",
      "metadata": {
        "id": "PJEk_jQrrJXn"
      },
      "source": [
        "##Multipayer Perceptron (MLP)\n",
        "\n",
        "Rede Neural baseado no algoritmo de gradiente descendente.  \n",
        "Os gradientes são calculados usando backpropagation.\n",
        "\n",
        "Para mais detalhes, ver os capitulos 13 a 16 do livro no site:\n",
        "\n",
        "http://deeplearningbook.com.br/"
      ]
    },
    {
      "cell_type": "code",
      "execution_count": 25,
      "metadata": {
        "id": "JNeeLtK58tGe"
      },
      "outputs": [],
      "source": [
        "import random\n",
        "import numpy as np"
      ]
    },
    {
      "cell_type": "markdown",
      "metadata": {
        "id": "BPjNMuBE8UcP"
      },
      "source": [
        "A entrada é uma lista (`sizes`) contém o número de neurônios nas respectivas camadas da rede. Por exemplo, se a lista for [2, 3, 1] então será uma rede de três camadas, com o primeira camada contendo 2 neurônios, a segunda camada 3 neurônios, e a terceira camada 1 neurônio. Os bias e pesos para a rede são inicializados aleatoriamente, usando uma distribuição Gaussiana com média 0 e variância 1. Note que a primeira camada é assumida como uma camada de entrada, e por convenção não definimos nenhum bias para esses neurônios, pois os bias são usados na computação das saídas das camadas posteriores.\n"
      ]
    },
    {
      "cell_type": "code",
      "execution_count": 26,
      "metadata": {
        "id": "tGf77mI_vuzP"
      },
      "outputs": [],
      "source": [
        "# Classe Network\n",
        "class Network(object):\n",
        "\n",
        "    def __init__(self, sizes):\n",
        "        self.num_layers = len(sizes)  #número de neurônios em cada camada\n",
        "        self.sizes = sizes\n",
        "\n",
        "        #Inicialização dos pesos de forma mais adequada para o ReLu\n",
        "        self.biases = [np.random.randn(y, 1) * np.sqrt(2.0/x) * 0.5 for x, y in zip(sizes[:-1], sizes[1:])]\n",
        "        self.weights = [np.random.randn(y, x) * np.sqrt(2.0/x) * 0.5 for x, y in zip(sizes[:-1], sizes[1:])]\n",
        "\n",
        "        #Inicialização dos pesos padrão\n",
        "        # self.biases = [np.random.randn(y, 1) for y in sizes[1:]] #limiar\n",
        "        # self.weights = [np.random.randn(y, x) for x, y in zip(sizes[:-1], sizes[1:])] #pesos\n",
        "        \n",
        "        # Inicialização do momentum\n",
        "        self.momentum_w = [np.zeros(w.shape) for w in self.weights]\n",
        "        self.momentum_b = [np.zeros(b.shape) for b in self.biases]\n",
        "\n",
        "    def batch_normalize(self, x):\n",
        "      mean = np.mean(x, axis=0)\n",
        "      std = np.std(x, axis=0)\n",
        "      normalized_data = (x - mean) / (std + 1e-8)\n",
        "      return normalized_data\n",
        "\n",
        "    def feedforward(self, x):\n",
        "        \"\"\"Retorna a saída da rede z se `x` for entrada.\"\"\"\n",
        "        for b, w in zip(self.biases, self.weights):\n",
        "            x = self.batch_normalize(x)\n",
        "            #x = sigmoid(np.dot(w, x)+b) #net = (∑xw+b)\n",
        "            x = relu(np.dot(w, x)+b) #net = (∑xw+b)\n",
        "        return x\n",
        "\n",
        "\n",
        "    #def SGD(self, training_data, epochs, mini_batch_size, initial_eta, 𝜂, test_data=None):        \n",
        "    def SGD(self, training_data, epochs, mini_batch_size, initial_eta, lambda_reg=0.0, momentum=0.0, test_data=None):\n",
        "        \"\"\"Treinar a rede neural usando o algoritmo mini batch com gradiente descendente.\n",
        "         A entrada é uma lista de tuplas\n",
        "         `(x, y)` representando as entradas de treinamento e as\n",
        "         saídas. Os outros parâmetros não opcionais são\n",
        "         auto-explicativos. Se `test_data` for fornecido, então a\n",
        "         rede será avaliada em relação aos dados do teste após cada\n",
        "         época e progresso parcial impresso. Isso é útil para\n",
        "         acompanhar o progresso, mas retarda as coisas substancialmente.\"\"\"\n",
        "         \n",
        "        #dataset de treino\n",
        "        training_data = list(training_data)\n",
        "        n = len(training_data)\n",
        "        \n",
        "        #dataset de teste\n",
        "        if test_data:\n",
        "            test_data = list(test_data)\n",
        "            n_test = len(test_data)\n",
        "\n",
        "        accuracies = []\n",
        "\n",
        "        for j in range(epochs):\n",
        "            eta = initial_eta * (0.95 ** j)\n",
        "            random.shuffle(training_data)\n",
        "            #técnica que realiza o treinamento por lotes\n",
        "            #mini_batch_size = tamanho do lote\n",
        "            mini_batches = [training_data[k:k + mini_batch_size] for k in range(0, n, mini_batch_size)]\n",
        "\n",
        "            for mini_batch in mini_batches:\n",
        "                self.update_mini_batch(mini_batch, eta, lambda_reg, momentum)\n",
        "\n",
        "            if test_data:\n",
        "                acc = self.evaluate(test_data)\n",
        "                accuracies.append((acc * 100) / n_test)\n",
        "                print(\"Epoch {} : {} / {} = {:.2f}%\".format(j, acc, n_test, (acc * 100) / n_test))\n",
        "            else:\n",
        "                print(\"Epoch {} finalizada\".format(j))\n",
        "\n",
        "        if test_data:\n",
        "            avg_accuracy = np.mean(accuracies)\n",
        "            print(\"\\nAcurácia média após {} épocas: {:.2f}%\".format(epochs, avg_accuracy))\n",
        "    \n",
        "    \n",
        "    # def update_mini_batch(self, mini_batch, 𝜂):\n",
        "    def update_mini_batch(self, mini_batch, eta, lambda_reg, momentum):\n",
        "        \"\"\"Atualiza os pesos e limiares da rede aplicando\n",
        "         a descida do gradiente usando backpropagation para um único mini lote.\n",
        "         O `mini_batch` é uma lista de tuplas `(x, y)`, e `a` é a taxa de aprendizado.\"\"\"\n",
        "        nabla_w = [np.zeros(w.shape) for w in self.weights]\n",
        "        nabla_b = [np.zeros(b.shape) for b in self.biases]\n",
        "\n",
        "        for x, y in mini_batch:\n",
        "            #resultado dos deltas do backpropagation sem a multiplicação da taxa de aprendizagem\n",
        "            #soma os deltas do minibatch\n",
        "            delta_nabla_b, delta_nabla_w = self.backprop(x, y)\n",
        "            nabla_w = [nw + dnw for nw, dnw in zip(nabla_w, delta_nabla_w)]\n",
        "            nabla_b = [nb + dnb for nb, dnb in zip(nabla_b, delta_nabla_b)]\n",
        "\n",
        "        # atualizando os pesos e vieses com regularização L2\n",
        "        self.weights = [(1 - eta * lambda_reg / len(mini_batch)) * w - (eta / len(mini_batch)) * nw + momentum * mw\n",
        "                        for w, nw, mw in zip(self.weights, nabla_w, self.momentum_w)]\n",
        "        self.biases = [b - (eta / len(mini_batch)) * nb + momentum * mb\n",
        "                       for b, nb, mb in zip(self.biases, nabla_b, self.momentum_b)]\n",
        "\n",
        "        # atualizando o vetor de momentum\n",
        "        self.momentum_w = [momentum * mw + (eta / len(mini_batch)) * nw for mw, nw in zip(self.momentum_w, nabla_w )]\n",
        "        self.momentum_b = [momentum * mb + (eta / len(mini_batch)) * nb for mb, nb in zip(self.momentum_b, nabla_b)]\n",
        "    \n",
        "    \n",
        "\n",
        "    def backprop(self, x, y):\n",
        "        \"\"\"Retorna uma tupla `(nabla_b, nabla_w)` representando o\n",
        "         gradiente para a função de custo J_x. `nabla_b` e\n",
        "         `nabla_w` são listas de camadas de matrizes numpy, semelhantes\n",
        "         a `self.biases` e `self.weights`.\"\"\"\n",
        "        nabla_w = [np.zeros(w.shape) for w in self.weights]\n",
        "        nabla_b = [np.zeros(b.shape) for b in self.biases]\n",
        "\n",
        "        # Feedforward\n",
        "        activation = x\n",
        "\n",
        "        # Lista para armazenar todas as saídas dos neurônios (z), camada por camada\n",
        "        activations = [x]\n",
        "\n",
        "        # Lista para armazenar todos os vetores net, camada por camada\n",
        "        nets = []\n",
        "\n",
        "        for b, w in zip(self.biases, self.weights):\n",
        "            net = np.dot(w, activation)+b\n",
        "            nets.append(net)\n",
        "            #activation = sigmoid(net) #z = valor de saída do neurônio\n",
        "            activation = relu(net) #z = valor de saída do neurônio\n",
        "            activations.append(activation)\n",
        "\n",
        "        # Backward pass\n",
        "\n",
        "        #última camada -(u-z)f'(net)\n",
        "        #delta = self.cost_derivative(activations[-1], y) * sigmoid_prime(nets[-1]) #SIGMOID\n",
        "        delta = self.cost_derivative(activations[-1], y) * relu_prime(nets[-1]) #RELU\n",
        "        nabla_b[-1] = delta\n",
        "        nabla_w[-1] = np.dot(delta, activations[-2].transpose()) #(𝑦−𝑧)*f’(net)*𝑥\n",
        "\n",
        "        # l = 1 significa a última camada de neurônios, l = 2 é a penúltima e assim por diante.\n",
        "        for l in range(2, self.num_layers):\n",
        "            net = nets[-l]\n",
        "            #zs = sigmoid_prime(net)\n",
        "            zs = relu_prime(net)\n",
        "            #delta da camada intermediaria. Note que utiliza o delta calculado anteriormente\n",
        "            delta = np.dot(self.weights[-l+1].transpose(), delta) * zs\n",
        "            nabla_b[-l] = delta\n",
        "            nabla_w[-l] = np.dot(delta, activations[-l-1].transpose()) #∑(𝛿𝑤)f’(net)𝑥\n",
        "        return (nabla_b, nabla_w)\n",
        "\n",
        "    def evaluate(self, test_data):\n",
        "        \"\"\"Retorna o número de entradas de teste para as quais a rede neural\n",
        "         produz o resultado correto. Note que a saída da rede neural\n",
        "         é considerada o índice de qualquer que seja\n",
        "         neurônio na camada final que tenha a maior ativação.\"\"\"\n",
        "\n",
        "        test_results = [(np.argmax(self.feedforward(x)), y) for (x, y) in test_data]\n",
        "        return sum(int(x == y) for (x, y) in test_results)\n",
        "\n",
        "    def cost_derivative(self, output_activations, y):\n",
        "        \"\"\"Retorna o vetor das derivadas parciais.\"\"\"\n",
        "        return (output_activations-y)\n",
        "\n",
        "# Função de Ativação Sigmóide\n",
        "def sigmoid(net):\n",
        "    return 1.0/(1.0+np.exp(-net))\n",
        "\n",
        "# Função para retornar as derivadas da função Sigmóide\n",
        "def sigmoid_prime(z):\n",
        "    return sigmoid(z)*(1-sigmoid(z))\n",
        "\n",
        "# Função de Ativação ReLu\n",
        "def relu(net):\n",
        "    return np.maximum(0, net)\n",
        "\n",
        "# Função para retornar as derivadas da função ReLu\n",
        "def relu_prime(z):\n",
        "    return np.where(z <= 0, 0, 1)\n"
      ]
    },
    {
      "cell_type": "markdown",
      "metadata": {
        "id": "6lndK7bt9F6d"
      },
      "source": [
        "Como exemplo, essa mesma rede será executada na base de dados MNIST. O codigo abaixo carrega a base de dados."
      ]
    },
    {
      "cell_type": "code",
      "execution_count": 27,
      "metadata": {
        "id": "KOZwqOkDv3t-"
      },
      "outputs": [],
      "source": [
        "# Carregar o dataset MNIST\n",
        "\n",
        "# Imports\n",
        "import pickle\n",
        "import gzip\n",
        "import numpy as np\n",
        "\n",
        "def load_data():\n",
        "    f = gzip.open('redes_neurais_pos/MLP/mnist.pkl.gz', 'rb')\n",
        "    training_data, validation_data, test_data = pickle.load(f, encoding=\"latin1\")\n",
        "    f.close()\n",
        "    return (training_data, validation_data, test_data)\n",
        "\n",
        "def load_data_wrapper():\n",
        "    tr_d, va_d, te_d = load_data()\n",
        "    training_inputs = [np.reshape(x, (784, 1)) for x in tr_d[0]]\n",
        "    training_results = [vectorized_result(y) for y in tr_d[1]]\n",
        "    training_data = zip(training_inputs, training_results)\n",
        "    validation_inputs = [np.reshape(x, (784, 1)) for x in va_d[0]]\n",
        "    validation_data = zip(validation_inputs, va_d[1])\n",
        "    test_inputs = [np.reshape(x, (784, 1)) for x in te_d[0]]\n",
        "    test_data = zip(test_inputs, te_d[1])\n",
        "    return (training_data, validation_data, test_data)\n",
        "\n",
        "def vectorized_result(j):\n",
        "    e = np.zeros((10, 1))\n",
        "    e[j] = 1.0\n",
        "    return e\n"
      ]
    },
    {
      "cell_type": "markdown",
      "metadata": {
        "id": "a2V5r3YW95A4"
      },
      "source": [
        "#Executa a rede neural\n",
        "\n",
        "Parâmetros de rede:\n",
        "         2º param é contagem de épocas\n",
        "         3º param é tamanho do lote\n",
        "         4º param é a taxa de aprendizado (𝜂)\n",
        "\n",
        "\n"
      ]
    },
    {
      "cell_type": "markdown",
      "metadata": {},
      "source": [
        "Verificando quais as melhores arquiteturas "
      ]
    },
    {
      "cell_type": "code",
      "execution_count": 28,
      "metadata": {},
      "outputs": [],
      "source": [
        "learning_rate = [0.1, 0.3, 0.5]\n",
        "\n",
        "one_layer_arquitecture = [\n",
        "  [784, 50, 10],\n",
        "  [784, 64, 10],\n",
        "  [784, 100, 10]\n",
        "]\n",
        "\n",
        "two_layer_arquitecture = [\n",
        "  [784, 50, 25, 10],\n",
        "  [784, 64, 32, 10],\n",
        "  [784, 80, 40, 10]\n",
        "]\n",
        "\n",
        "architectures = [one_layer_arquitecture, two_layer_arquitecture]\n",
        "\n",
        "for arq_grupo in architectures:\n",
        "    print(f\"Executando com grupo das seguintes configurações: 1 - {arq_grupo[0]} | 2 - {arq_grupo[1]} | 3 - {arq_grupo[2]}\\n\")\n",
        "    for arq in arq_grupo:\n",
        "        print(f\"Configuração especifica a ser testada: {arq_grupo.index(arq)+1} - {arq}\")\n",
        "        print(\"----------------------------------------------------\")\n",
        "        for lr in learning_rate:\n",
        "            training_data, validation_data, test_data = load_data_wrapper()\n",
        "            training_data = list(training_data)\n",
        "\n",
        "            mlp = Network(arq)\n",
        "            print(f\"Executando com taxa de aprendizado de {lr}\")\n",
        "            mlp.SGD(training_data, 10, 32, lr, test_data=test_data)\n",
        "            print(\"\\n\")\n",
        "\n",
        "print(\"Fim dos testes!\")"
      ]
    },
    {
      "cell_type": "markdown",
      "metadata": {},
      "source": [
        "DEFININDO AS ARQUITETURAS DOS 3 MELHORES RESULTADOS\n",
        "\n",
        "melhores arquiteturas:\n",
        "\n",
        "RELU - [784, 64, 10] - lr = 0.1 - 95.17%\n",
        "\n",
        "RELU - [784, 100, 10] - lr = 0.1 - 94.16%\n",
        "\n",
        "RELU - [784, 100, 10] - lr = 0.3 - 93.18%"
      ]
    },
    {
      "cell_type": "code",
      "execution_count": 29,
      "metadata": {},
      "outputs": [
        {
          "name": "stdout",
          "output_type": "stream",
          "text": [
            "Epoch 0 : 980 / 10000 = 9.80%\n",
            "Epoch 1 : 980 / 10000 = 9.80%\n",
            "Epoch 2 : 980 / 10000 = 9.80%\n"
          ]
        },
        {
          "ename": "KeyboardInterrupt",
          "evalue": "",
          "output_type": "error",
          "traceback": [
            "\u001b[0;31m---------------------------------------------------------------------------\u001b[0m",
            "\u001b[0;31mKeyboardInterrupt\u001b[0m                         Traceback (most recent call last)",
            "Cell \u001b[0;32mIn[29], line 9\u001b[0m\n\u001b[1;32m      7\u001b[0m mlp \u001b[38;5;241m=\u001b[39m Network(arquitecture)\n\u001b[1;32m      8\u001b[0m \u001b[38;5;66;03m# mlp.SGD(training_data, 30, 32, 0.1, test_data=test_data)\u001b[39;00m\n\u001b[0;32m----> 9\u001b[0m \u001b[43mmlp\u001b[49m\u001b[38;5;241;43m.\u001b[39;49m\u001b[43mSGD\u001b[49m\u001b[43m(\u001b[49m\u001b[43mtraining_data\u001b[49m\u001b[43m,\u001b[49m\u001b[43m \u001b[49m\u001b[38;5;241;43m15\u001b[39;49m\u001b[43m,\u001b[49m\u001b[43m \u001b[49m\u001b[38;5;241;43m32\u001b[39;49m\u001b[43m,\u001b[49m\u001b[43m \u001b[49m\u001b[38;5;241;43m0.1\u001b[39;49m\u001b[43m,\u001b[49m\u001b[43m \u001b[49m\u001b[43mlambda_reg\u001b[49m\u001b[38;5;241;43m=\u001b[39;49m\u001b[38;5;241;43m0.01\u001b[39;49m\u001b[43m,\u001b[49m\u001b[43m \u001b[49m\u001b[43mmomentum\u001b[49m\u001b[38;5;241;43m=\u001b[39;49m\u001b[38;5;241;43m0.9\u001b[39;49m\u001b[43m,\u001b[49m\u001b[43m \u001b[49m\u001b[43mtest_data\u001b[49m\u001b[38;5;241;43m=\u001b[39;49m\u001b[43mtest_data\u001b[49m\u001b[43m)\u001b[49m\n",
            "Cell \u001b[0;32mIn[26], line 68\u001b[0m, in \u001b[0;36mNetwork.SGD\u001b[0;34m(self, training_data, epochs, mini_batch_size, initial_eta, lambda_reg, momentum, test_data)\u001b[0m\n\u001b[1;32m     65\u001b[0m     \u001b[38;5;28mself\u001b[39m\u001b[38;5;241m.\u001b[39mupdate_mini_batch(mini_batch, eta, lambda_reg, momentum)\n\u001b[1;32m     67\u001b[0m \u001b[38;5;28;01mif\u001b[39;00m test_data:\n\u001b[0;32m---> 68\u001b[0m     acc \u001b[38;5;241m=\u001b[39m \u001b[38;5;28;43mself\u001b[39;49m\u001b[38;5;241;43m.\u001b[39;49m\u001b[43mevaluate\u001b[49m\u001b[43m(\u001b[49m\u001b[43mtest_data\u001b[49m\u001b[43m)\u001b[49m\n\u001b[1;32m     69\u001b[0m     accuracies\u001b[38;5;241m.\u001b[39mappend((acc \u001b[38;5;241m*\u001b[39m \u001b[38;5;241m100\u001b[39m) \u001b[38;5;241m/\u001b[39m n_test)\n\u001b[1;32m     70\u001b[0m     \u001b[38;5;28mprint\u001b[39m(\u001b[38;5;124m\"\u001b[39m\u001b[38;5;124mEpoch \u001b[39m\u001b[38;5;132;01m{}\u001b[39;00m\u001b[38;5;124m : \u001b[39m\u001b[38;5;132;01m{}\u001b[39;00m\u001b[38;5;124m / \u001b[39m\u001b[38;5;132;01m{}\u001b[39;00m\u001b[38;5;124m = \u001b[39m\u001b[38;5;132;01m{:.2f}\u001b[39;00m\u001b[38;5;124m%\u001b[39m\u001b[38;5;124m\"\u001b[39m\u001b[38;5;241m.\u001b[39mformat(j, acc, n_test, (acc \u001b[38;5;241m*\u001b[39m \u001b[38;5;241m100\u001b[39m) \u001b[38;5;241m/\u001b[39m n_test))\n",
            "Cell \u001b[0;32mIn[26], line 177\u001b[0m, in \u001b[0;36mNetwork.evaluate\u001b[0;34m(self, test_data)\u001b[0m\n\u001b[1;32m    171\u001b[0m \u001b[38;5;28;01mdef\u001b[39;00m \u001b[38;5;21mevaluate\u001b[39m(\u001b[38;5;28mself\u001b[39m, test_data):\n\u001b[1;32m    172\u001b[0m \u001b[38;5;250m    \u001b[39m\u001b[38;5;124;03m\"\"\"Retorna o número de entradas de teste para as quais a rede neural\u001b[39;00m\n\u001b[1;32m    173\u001b[0m \u001b[38;5;124;03m     produz o resultado correto. Note que a saída da rede neural\u001b[39;00m\n\u001b[1;32m    174\u001b[0m \u001b[38;5;124;03m     é considerada o índice de qualquer que seja\u001b[39;00m\n\u001b[1;32m    175\u001b[0m \u001b[38;5;124;03m     neurônio na camada final que tenha a maior ativação.\"\"\"\u001b[39;00m\n\u001b[0;32m--> 177\u001b[0m     test_results \u001b[38;5;241m=\u001b[39m [(np\u001b[38;5;241m.\u001b[39margmax(\u001b[38;5;28;43mself\u001b[39;49m\u001b[38;5;241;43m.\u001b[39;49m\u001b[43mfeedforward\u001b[49m\u001b[43m(\u001b[49m\u001b[43mx\u001b[49m\u001b[43m)\u001b[49m), y) \u001b[38;5;28;01mfor\u001b[39;00m (x, y) \u001b[38;5;129;01min\u001b[39;00m test_data]\n\u001b[1;32m    178\u001b[0m     \u001b[38;5;28;01mreturn\u001b[39;00m \u001b[38;5;28msum\u001b[39m(\u001b[38;5;28mint\u001b[39m(x \u001b[38;5;241m==\u001b[39m y) \u001b[38;5;28;01mfor\u001b[39;00m (x, y) \u001b[38;5;129;01min\u001b[39;00m test_results)\n",
            "Cell \u001b[0;32mIn[26], line 29\u001b[0m, in \u001b[0;36mNetwork.feedforward\u001b[0;34m(self, x)\u001b[0m\n\u001b[1;32m     27\u001b[0m \u001b[38;5;250m\u001b[39m\u001b[38;5;124;03m\"\"\"Retorna a saída da rede z se `x` for entrada.\"\"\"\u001b[39;00m\n\u001b[1;32m     28\u001b[0m \u001b[38;5;28;01mfor\u001b[39;00m b, w \u001b[38;5;129;01min\u001b[39;00m \u001b[38;5;28mzip\u001b[39m(\u001b[38;5;28mself\u001b[39m\u001b[38;5;241m.\u001b[39mbiases, \u001b[38;5;28mself\u001b[39m\u001b[38;5;241m.\u001b[39mweights):\n\u001b[0;32m---> 29\u001b[0m     x \u001b[38;5;241m=\u001b[39m \u001b[38;5;28;43mself\u001b[39;49m\u001b[38;5;241;43m.\u001b[39;49m\u001b[43mbatch_normalize\u001b[49m\u001b[43m(\u001b[49m\u001b[43mx\u001b[49m\u001b[43m)\u001b[49m\n\u001b[1;32m     30\u001b[0m     \u001b[38;5;66;03m#x = sigmoid(np.dot(w, x)+b) #net = (∑xw+b)\u001b[39;00m\n\u001b[1;32m     31\u001b[0m     x \u001b[38;5;241m=\u001b[39m relu(np\u001b[38;5;241m.\u001b[39mdot(w, x)\u001b[38;5;241m+\u001b[39mb) \u001b[38;5;66;03m#net = (∑xw+b)\u001b[39;00m\n",
            "Cell \u001b[0;32mIn[26], line 21\u001b[0m, in \u001b[0;36mNetwork.batch_normalize\u001b[0;34m(self, x)\u001b[0m\n\u001b[1;32m     20\u001b[0m \u001b[38;5;28;01mdef\u001b[39;00m \u001b[38;5;21mbatch_normalize\u001b[39m(\u001b[38;5;28mself\u001b[39m, x):\n\u001b[0;32m---> 21\u001b[0m   mean \u001b[38;5;241m=\u001b[39m \u001b[43mnp\u001b[49m\u001b[38;5;241;43m.\u001b[39;49m\u001b[43mmean\u001b[49m\u001b[43m(\u001b[49m\u001b[43mx\u001b[49m\u001b[43m,\u001b[49m\u001b[43m \u001b[49m\u001b[43maxis\u001b[49m\u001b[38;5;241;43m=\u001b[39;49m\u001b[38;5;241;43m0\u001b[39;49m\u001b[43m)\u001b[49m\n\u001b[1;32m     22\u001b[0m   std \u001b[38;5;241m=\u001b[39m np\u001b[38;5;241m.\u001b[39mstd(x, axis\u001b[38;5;241m=\u001b[39m\u001b[38;5;241m0\u001b[39m)\n\u001b[1;32m     23\u001b[0m   normalized_data \u001b[38;5;241m=\u001b[39m (x \u001b[38;5;241m-\u001b[39m mean) \u001b[38;5;241m/\u001b[39m (std \u001b[38;5;241m+\u001b[39m \u001b[38;5;241m1e-8\u001b[39m)\n",
            "File \u001b[0;32m~/Repositorios_UFRPE/Redes_Neurais-UFRPE/rede_mlp-otimizacao/.venv/lib/python3.12/site-packages/numpy/_core/fromnumeric.py:3860\u001b[0m, in \u001b[0;36mmean\u001b[0;34m(a, axis, dtype, out, keepdims, where)\u001b[0m\n\u001b[1;32m   3857\u001b[0m     \u001b[38;5;28;01melse\u001b[39;00m:\n\u001b[1;32m   3858\u001b[0m         \u001b[38;5;28;01mreturn\u001b[39;00m mean(axis\u001b[38;5;241m=\u001b[39maxis, dtype\u001b[38;5;241m=\u001b[39mdtype, out\u001b[38;5;241m=\u001b[39mout, \u001b[38;5;241m*\u001b[39m\u001b[38;5;241m*\u001b[39mkwargs)\n\u001b[0;32m-> 3860\u001b[0m \u001b[38;5;28;01mreturn\u001b[39;00m \u001b[43m_methods\u001b[49m\u001b[38;5;241;43m.\u001b[39;49m\u001b[43m_mean\u001b[49m\u001b[43m(\u001b[49m\u001b[43ma\u001b[49m\u001b[43m,\u001b[49m\u001b[43m \u001b[49m\u001b[43maxis\u001b[49m\u001b[38;5;241;43m=\u001b[39;49m\u001b[43maxis\u001b[49m\u001b[43m,\u001b[49m\u001b[43m \u001b[49m\u001b[43mdtype\u001b[49m\u001b[38;5;241;43m=\u001b[39;49m\u001b[43mdtype\u001b[49m\u001b[43m,\u001b[49m\n\u001b[1;32m   3861\u001b[0m \u001b[43m                      \u001b[49m\u001b[43mout\u001b[49m\u001b[38;5;241;43m=\u001b[39;49m\u001b[43mout\u001b[49m\u001b[43m,\u001b[49m\u001b[43m \u001b[49m\u001b[38;5;241;43m*\u001b[39;49m\u001b[38;5;241;43m*\u001b[39;49m\u001b[43mkwargs\u001b[49m\u001b[43m)\u001b[49m\n",
            "File \u001b[0;32m~/Repositorios_UFRPE/Redes_Neurais-UFRPE/rede_mlp-otimizacao/.venv/lib/python3.12/site-packages/numpy/_core/_methods.py:118\u001b[0m, in \u001b[0;36m_mean\u001b[0;34m(a, axis, dtype, out, keepdims, where)\u001b[0m\n\u001b[1;32m    115\u001b[0m     \u001b[38;5;28;01melse\u001b[39;00m:\n\u001b[1;32m    116\u001b[0m         \u001b[38;5;28;01mreturn\u001b[39;00m um\u001b[38;5;241m.\u001b[39mclip(a, \u001b[38;5;28mmin\u001b[39m, \u001b[38;5;28mmax\u001b[39m, out\u001b[38;5;241m=\u001b[39mout, \u001b[38;5;241m*\u001b[39m\u001b[38;5;241m*\u001b[39mkwargs)\n\u001b[0;32m--> 118\u001b[0m \u001b[38;5;28;01mdef\u001b[39;00m \u001b[38;5;21m_mean\u001b[39m(a, axis\u001b[38;5;241m=\u001b[39m\u001b[38;5;28;01mNone\u001b[39;00m, dtype\u001b[38;5;241m=\u001b[39m\u001b[38;5;28;01mNone\u001b[39;00m, out\u001b[38;5;241m=\u001b[39m\u001b[38;5;28;01mNone\u001b[39;00m, keepdims\u001b[38;5;241m=\u001b[39m\u001b[38;5;28;01mFalse\u001b[39;00m, \u001b[38;5;241m*\u001b[39m, where\u001b[38;5;241m=\u001b[39m\u001b[38;5;28;01mTrue\u001b[39;00m):\n\u001b[1;32m    119\u001b[0m     arr \u001b[38;5;241m=\u001b[39m asanyarray(a)\n\u001b[1;32m    121\u001b[0m     is_float16_result \u001b[38;5;241m=\u001b[39m \u001b[38;5;28;01mFalse\u001b[39;00m\n",
            "\u001b[0;31mKeyboardInterrupt\u001b[0m: "
          ]
        }
      ],
      "source": [
        "training_data, validation_data, test_data = load_data_wrapper()\n",
        "training_data = list(training_data)\n",
        "\n",
        "#arquitetura da rede\n",
        "#arquitecture = [784, 100, 10] #lr = 0.1 | lr = 0.3\n",
        "arquitecture = [784, 64, 10] #lr = 0.1\n",
        "mlp = Network(arquitecture)\n",
        "# mlp.SGD(training_data, 30, 32, 0.1, test_data=test_data)\n",
        "mlp.SGD(training_data, 15, 32, 0.1, lambda_reg=0.01, momentum=0.9, test_data=test_data)\n"
      ]
    },
    {
      "cell_type": "markdown",
      "metadata": {},
      "source": [
        "Executando a arquitetura padrão do código fonte"
      ]
    },
    {
      "cell_type": "code",
      "execution_count": null,
      "metadata": {
        "id": "7c86ya6KrquI"
      },
      "outputs": [
        {
          "name": "stdout",
          "output_type": "stream",
          "text": [
            "Epoch 0 : 4373 / 10000 = 43.73%\n",
            "Epoch 1 : 7087 / 10000 = 70.87%\n",
            "Epoch 2 : 7872 / 10000 = 78.72%\n",
            "Epoch 3 : 8223 / 10000 = 82.23%\n",
            "Epoch 4 : 8409 / 10000 = 84.09%\n",
            "Epoch 5 : 8552 / 10000 = 85.52%\n",
            "Epoch 6 : 8648 / 10000 = 86.48%\n",
            "Epoch 7 : 8727 / 10000 = 87.27%\n",
            "Epoch 8 : 8788 / 10000 = 87.88%\n",
            "Epoch 9 : 8820 / 10000 = 88.2%\n",
            "Epoch 10 : 8875 / 10000 = 88.75%\n",
            "Epoch 11 : 8905 / 10000 = 89.05%\n",
            "Epoch 12 : 8932 / 10000 = 89.32%\n",
            "Epoch 13 : 8955 / 10000 = 89.55%\n",
            "Epoch 14 : 8992 / 10000 = 89.92%\n",
            "Epoch 15 : 8999 / 10000 = 89.99%\n",
            "Epoch 16 : 9022 / 10000 = 90.22%\n",
            "Epoch 17 : 9022 / 10000 = 90.22%\n",
            "Epoch 18 : 9053 / 10000 = 90.53%\n",
            "Epoch 19 : 9069 / 10000 = 90.69%\n",
            "Epoch 20 : 9090 / 10000 = 90.9%\n",
            "Epoch 21 : 9098 / 10000 = 90.98%\n",
            "Epoch 22 : 9103 / 10000 = 91.03%\n",
            "Epoch 23 : 9111 / 10000 = 91.11%\n",
            "Epoch 24 : 9111 / 10000 = 91.11%\n",
            "Epoch 25 : 9132 / 10000 = 91.32%\n",
            "Epoch 26 : 9142 / 10000 = 91.42%\n",
            "Epoch 27 : 9149 / 10000 = 91.49%\n",
            "Epoch 28 : 9155 / 10000 = 91.55%\n",
            "Epoch 29 : 9159 / 10000 = 91.59%\n"
          ]
        }
      ],
      "source": [
        "training_data, validation_data, test_data = load_data_wrapper()\n",
        "training_data = list(training_data)\n",
        "\n",
        "#arquitetura da rede\n",
        "arquitecture = [784, 30, 10]\n",
        "mlp = Network(arquitecture)\n",
        "mlp.SGD(training_data, 30, 32, 0.3, test_data=test_data)\n",
        "\n",
        "\n"
      ]
    },
    {
      "cell_type": "markdown",
      "metadata": {
        "id": "rLJbbYrFdU_w"
      },
      "source": [
        "##**Mini-Projeto**\n",
        "\n",
        "A partir dos melhores resultados obtidos no projeto anterior, execute 3 configurações pra cada questão a seguir:\n",
        "\n",
        "1) Implementar as regularizações L1 e L2\n",
        "\n",
        "2) Implementar o Momento\n",
        "\n",
        "3) Comparar os experimentos e explicar o porque de cada resultado? Qual foi a melhor regularização? Por quê? O Momento melhorou os resultados? Por quê?\n",
        "\n",
        "Data de Entrega: 14/10/2020\n",
        "     \n",
        "      \n",
        "Complete a Tabela abaixo com os resultados\n",
        "\n",
        "\\begin{array}{|c|c|c|c|}\\hline\\\\ \\\\\n",
        "  Configuracao & 1 & 2 & 3 \\\\ \\hline\n",
        "L1 &  &  &   \\\\ \\hline\n",
        "L2  & & &  \\\\ \\hline\n",
        "Momento  & & & \\\\ \\hline\n",
        "\\end{array}\n",
        "\n",
        "\n",
        "\n",
        "\\\\\n",
        "Data de Entrega: 17/10/2020\n"
      ]
    }
  ],
  "metadata": {
    "accelerator": "GPU",
    "colab": {
      "name": "Backpropagation",
      "provenance": []
    },
    "kernelspec": {
      "display_name": ".venv",
      "language": "python",
      "name": "python3"
    },
    "language_info": {
      "codemirror_mode": {
        "name": "ipython",
        "version": 3
      },
      "file_extension": ".py",
      "mimetype": "text/x-python",
      "name": "python",
      "nbconvert_exporter": "python",
      "pygments_lexer": "ipython3",
      "version": "3.12.3"
    }
  },
  "nbformat": 4,
  "nbformat_minor": 0
}
