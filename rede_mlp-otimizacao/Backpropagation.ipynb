{
  "cells": [
    {
      "cell_type": "code",
      "execution_count": 1,
      "metadata": {
        "id": "gquVOlEzAIeg"
      },
      "outputs": [
        {
          "name": "stdout",
          "output_type": "stream",
          "text": [
            "fatal: destination path 'redes_neurais_pos' already exists and is not an empty directory.\n"
          ]
        }
      ],
      "source": [
        "!git clone https://github.com/valmirf/redes_neurais_pos.git"
      ]
    },
    {
      "cell_type": "markdown",
      "metadata": {
        "id": "PJEk_jQrrJXn"
      },
      "source": [
        "##Multipayer Perceptron (MLP)\n",
        "\n",
        "Rede Neural baseado no algoritmo de gradiente descendente.  \n",
        "Os gradientes são calculados usando backpropagation.\n",
        "\n",
        "Para mais detalhes, ver os capitulos 13 a 16 do livro no site:\n",
        "\n",
        "http://deeplearningbook.com.br/"
      ]
    },
    {
      "cell_type": "code",
      "execution_count": 2,
      "metadata": {
        "id": "JNeeLtK58tGe"
      },
      "outputs": [],
      "source": [
        "import random\n",
        "import numpy as np"
      ]
    },
    {
      "cell_type": "markdown",
      "metadata": {
        "id": "BPjNMuBE8UcP"
      },
      "source": [
        "A entrada é uma lista (`sizes`) contém o número de neurônios nas respectivas camadas da rede. Por exemplo, se a lista for [2, 3, 1] então será uma rede de três camadas, com o primeira camada contendo 2 neurônios, a segunda camada 3 neurônios, e a terceira camada 1 neurônio. Os bias e pesos para a rede são inicializados aleatoriamente, usando uma distribuição Gaussiana com média 0 e variância 1. Note que a primeira camada é assumida como uma camada de entrada, e por convenção não definimos nenhum bias para esses neurônios, pois os bias são usados na computação das saídas das camadas posteriores.\n"
      ]
    },
    {
      "cell_type": "code",
      "execution_count": 3,
      "metadata": {
        "id": "tGf77mI_vuzP"
      },
      "outputs": [],
      "source": [
        "# Classe Network\n",
        "class Network(object):\n",
        "\n",
        "    def __init__(self, sizes):\n",
        "        self.num_layers = len(sizes)  #número de neurônios em cada camada\n",
        "        self.sizes = sizes\n",
        "        self.biases = [np.random.randn(y, 1) for y in sizes[1:]] #limiar\n",
        "        self.weights = [np.random.randn(y, x) for x, y in zip(sizes[:-1], sizes[1:])] #pesos\n",
        "\n",
        "    def feedforward(self, x):\n",
        "        \"\"\"Retorna a saída da rede z se `x` for entrada.\"\"\"\n",
        "        for b, w in zip(self.biases, self.weights):\n",
        "            x = sigmoid(np.dot(w, x)+b) #net = (∑wx+b)\n",
        "        return x\n",
        "\n",
        "    def SGD(self, training_data, epochs, mini_batch_size, 𝜂, test_data=None):\n",
        "        \"\"\"Treinar a rede neural usando o algoritmo mini batch com gradiente descendente.\n",
        "         A entrada é uma lista de tuplas\n",
        "         `(x, y)` representando as entradas de treinamento e as\n",
        "         saídas. Os outros parâmetros não opcionais são\n",
        "         auto-explicativos. Se `test_data` for fornecido, então a\n",
        "         rede será avaliada em relação aos dados do teste após cada\n",
        "         época e progresso parcial impresso. Isso é útil para\n",
        "         acompanhar o progresso, mas retarda as coisas substancialmente.\"\"\"\n",
        "\n",
        "        #dataset de treino\n",
        "        training_data = list(training_data)\n",
        "        n = len(training_data)\n",
        "\n",
        "        #dataset de teste\n",
        "        if test_data:\n",
        "            test_data = list(test_data)\n",
        "            n_test = len(test_data)\n",
        "\n",
        "        for j in range(epochs):\n",
        "            random.shuffle(training_data)\n",
        "            #técnica que realiza o treinamento por lotes\n",
        "            #mini_batch_size = tamanho do lote\n",
        "            mini_batches = [training_data[k:k+mini_batch_size] for k in range(0, n, mini_batch_size)]\n",
        "\n",
        "            for mini_batch in mini_batches:\n",
        "                self.update_mini_batch(mini_batch, 𝜂)\n",
        "\n",
        "            if test_data:\n",
        "                acc = self.evaluate(test_data)\n",
        "                print(\"Epoch {} : {} / {} = {}%\".format(j,acc,n_test,(acc*100)/n_test));\n",
        "\n",
        "            else:\n",
        "                print(\"Epoch {} finalizada\".format(j))\n",
        "\n",
        "    def update_mini_batch(self, mini_batch, 𝜂):\n",
        "        \"\"\"Atualiza os pesos e limiares da rede aplicando\n",
        "         a descida do gradiente usando backpropagation para um único mini lote.\n",
        "         O `mini_batch` é uma lista de tuplas `(x, y)`, e `a` é a taxa de aprendizado.\"\"\"\n",
        "\n",
        "        #inicializa matriz com derivadas de pesos e limiares\n",
        "        nabla_w = [np.zeros(w.shape) for w in self.weights]\n",
        "        nabla_b = [np.zeros(b.shape) for b in self.biases]\n",
        "\n",
        "        for x, y in mini_batch:\n",
        "            #resultado dos deltas do backpropagation sem a multiplicação da taxa de aprendizagem\n",
        "            #soma os deltas do minibatch\n",
        "            delta_nabla_b, delta_nabla_w = self.backprop(x, y)\n",
        "            nabla_w = [nw+dnw for nw, dnw in zip(nabla_w, delta_nabla_w)]\n",
        "            nabla_b = [nb+dnb for nb, dnb in zip(nabla_b, delta_nabla_b)]\n",
        "\n",
        "        #atualiza pesos e limiares (𝜂*𝛿*f’(net)*𝑥)\n",
        "        self.weights = [w-(𝜂/len(mini_batch))*nw for w, nw in zip(self.weights, nabla_w)]\n",
        "        self.biases = [b-(𝜂/len(mini_batch))*nb for b, nb in zip(self.biases, nabla_b)]\n",
        "\n",
        "    def backprop(self, x, y):\n",
        "        \"\"\"Retorna uma tupla `(nabla_b, nabla_w)` representando o\n",
        "         gradiente para a função de custo J_x. `nabla_b` e\n",
        "         `nabla_w` são listas de camadas de matrizes numpy, semelhantes\n",
        "         a `self.biases` e `self.weights`.\"\"\"\n",
        "        nabla_w = [np.zeros(w.shape) for w in self.weights]\n",
        "        nabla_b = [np.zeros(b.shape) for b in self.biases]\n",
        "\n",
        "        # Feedforward\n",
        "        activation = x\n",
        "\n",
        "        # Lista para armazenar todas as saídas dos neurônios (z), camada por camada\n",
        "        activations = [x]\n",
        "\n",
        "        # Lista para armazenar todos os vetores net, camada por camada\n",
        "        nets = []\n",
        "\n",
        "        for b, w in zip(self.biases, self.weights):\n",
        "            net = np.dot(w, activation)+b\n",
        "            nets.append(net)\n",
        "            activation = sigmoid(net) #z = valor de saída do neurônio\n",
        "            activations.append(activation)\n",
        "\n",
        "        # Backward pass\n",
        "\n",
        "        #última camada -(u-z)f'(net)\n",
        "        delta = self.cost_derivative(activations[-1], y) * sigmoid_prime(nets[-1])\n",
        "        nabla_b[-1] = delta\n",
        "        nabla_w[-1] = np.dot(delta, activations[-2].transpose()) #(𝑦−𝑧)*f’(net)*𝑥\n",
        "\n",
        "        # l = 1 significa a última camada de neurônios, l = 2 é a penúltima e assim por diante.\n",
        "        for l in range(2, self.num_layers):\n",
        "            net = nets[-l]\n",
        "            zs = sigmoid_prime(net)\n",
        "            #delta da camada intermediaria. Note que utiliza o delta calculado anteriormente\n",
        "            delta = np.dot(self.weights[-l+1].transpose(), delta) * zs\n",
        "            nabla_b[-l] = delta\n",
        "            nabla_w[-l] = np.dot(delta, activations[-l-1].transpose()) #∑(𝛿𝑤)f’(net)𝑥\n",
        "        return (nabla_b, nabla_w)\n",
        "\n",
        "    def evaluate(self, test_data):\n",
        "        \"\"\"Retorna o número de entradas de teste para as quais a rede neural\n",
        "         produz o resultado correto. Note que a saída da rede neural\n",
        "         é considerada o índice de qualquer que seja\n",
        "         neurônio na camada final que tenha a maior ativação.\"\"\"\n",
        "\n",
        "        test_results = [(np.argmax(self.feedforward(x)), y) for (x, y) in test_data]\n",
        "        return sum(int(x == y) for (x, y) in test_results)\n",
        "\n",
        "    def cost_derivative(self, output_activations, y):\n",
        "        \"\"\"Retorna o vetor das derivadas parciais.\"\"\"\n",
        "        return (output_activations-y)\n",
        "\n",
        "# Função de Ativação Sigmóide\n",
        "def sigmoid(net):\n",
        "    return 1.0/(1.0+np.exp(-net))\n",
        "\n",
        "# Função para retornar as derivadas da função Sigmóide\n",
        "def sigmoid_prime(z):\n",
        "    return sigmoid(z)*(1-sigmoid(z))\n"
      ]
    },
    {
      "cell_type": "markdown",
      "metadata": {
        "id": "6lndK7bt9F6d"
      },
      "source": [
        "Como exemplo, essa mesma rede será executada na base de dados MNIST. O codigo abaixo carrega a base de dados."
      ]
    },
    {
      "cell_type": "code",
      "execution_count": 4,
      "metadata": {
        "id": "KOZwqOkDv3t-"
      },
      "outputs": [],
      "source": [
        "# Carregar o dataset MNIST\n",
        "\n",
        "# Imports\n",
        "import pickle\n",
        "import gzip\n",
        "import numpy as np\n",
        "\n",
        "def load_data():\n",
        "    f = gzip.open('redes_neurais_pos/MLP/mnist.pkl.gz', 'rb')\n",
        "    training_data, validation_data, test_data = pickle.load(f, encoding=\"latin1\")\n",
        "    f.close()\n",
        "    return (training_data, validation_data, test_data)\n",
        "\n",
        "def load_data_wrapper():\n",
        "    tr_d, va_d, te_d = load_data()\n",
        "    training_inputs = [np.reshape(x, (784, 1)) for x in tr_d[0]]\n",
        "    training_results = [vectorized_result(y) for y in tr_d[1]]\n",
        "    training_data = zip(training_inputs, training_results)\n",
        "    validation_inputs = [np.reshape(x, (784, 1)) for x in va_d[0]]\n",
        "    validation_data = zip(validation_inputs, va_d[1])\n",
        "    test_inputs = [np.reshape(x, (784, 1)) for x in te_d[0]]\n",
        "    test_data = zip(test_inputs, te_d[1])\n",
        "    return (training_data, validation_data, test_data)\n",
        "\n",
        "def vectorized_result(j):\n",
        "    e = np.zeros((10, 1))\n",
        "    e[j] = 1.0\n",
        "    return e\n"
      ]
    },
    {
      "cell_type": "markdown",
      "metadata": {
        "id": "a2V5r3YW95A4"
      },
      "source": [
        "#Executa a rede neural\n",
        "\n",
        "Parâmetros de rede:\n",
        "         2º param é contagem de épocas\n",
        "         3º param é tamanho do lote\n",
        "         4º param é a taxa de aprendizado (𝜂)\n",
        "\n",
        "\n"
      ]
    },
    {
      "cell_type": "code",
      "execution_count": 5,
      "metadata": {
        "id": "7c86ya6KrquI"
      },
      "outputs": [
        {
          "name": "stdout",
          "output_type": "stream",
          "text": [
            "Epoch 0 : 4373 / 10000 = 43.73%\n",
            "Epoch 1 : 7087 / 10000 = 70.87%\n",
            "Epoch 2 : 7872 / 10000 = 78.72%\n",
            "Epoch 3 : 8223 / 10000 = 82.23%\n",
            "Epoch 4 : 8409 / 10000 = 84.09%\n",
            "Epoch 5 : 8552 / 10000 = 85.52%\n",
            "Epoch 6 : 8648 / 10000 = 86.48%\n",
            "Epoch 7 : 8727 / 10000 = 87.27%\n",
            "Epoch 8 : 8788 / 10000 = 87.88%\n",
            "Epoch 9 : 8820 / 10000 = 88.2%\n",
            "Epoch 10 : 8875 / 10000 = 88.75%\n",
            "Epoch 11 : 8905 / 10000 = 89.05%\n",
            "Epoch 12 : 8932 / 10000 = 89.32%\n",
            "Epoch 13 : 8955 / 10000 = 89.55%\n",
            "Epoch 14 : 8992 / 10000 = 89.92%\n",
            "Epoch 15 : 8999 / 10000 = 89.99%\n",
            "Epoch 16 : 9022 / 10000 = 90.22%\n",
            "Epoch 17 : 9022 / 10000 = 90.22%\n",
            "Epoch 18 : 9053 / 10000 = 90.53%\n",
            "Epoch 19 : 9069 / 10000 = 90.69%\n",
            "Epoch 20 : 9090 / 10000 = 90.9%\n",
            "Epoch 21 : 9098 / 10000 = 90.98%\n",
            "Epoch 22 : 9103 / 10000 = 91.03%\n",
            "Epoch 23 : 9111 / 10000 = 91.11%\n",
            "Epoch 24 : 9111 / 10000 = 91.11%\n",
            "Epoch 25 : 9132 / 10000 = 91.32%\n",
            "Epoch 26 : 9142 / 10000 = 91.42%\n",
            "Epoch 27 : 9149 / 10000 = 91.49%\n",
            "Epoch 28 : 9155 / 10000 = 91.55%\n",
            "Epoch 29 : 9159 / 10000 = 91.59%\n"
          ]
        }
      ],
      "source": [
        "training_data, validation_data, test_data = load_data_wrapper()\n",
        "training_data = list(training_data)\n",
        "\n",
        "#arquitetura da rede\n",
        "arquitecture = [784, 30, 10]\n",
        "mlp = Network(arquitecture)\n",
        "mlp.SGD(training_data, 30, 32, 0.3, test_data=test_data)\n",
        "\n",
        "\n"
      ]
    },
    {
      "cell_type": "markdown",
      "metadata": {
        "id": "rLJbbYrFdU_w"
      },
      "source": [
        "##**Mini-Projeto**\n",
        "\n",
        "A partir dos melhores resultados obtidos no projeto anterior, execute 3 configurações pra cada questão a seguir:\n",
        "\n",
        "1) Implementar as regularizações L1 e L2\n",
        "\n",
        "2) Implementar o Momento\n",
        "\n",
        "3) Comparar os experimentos e explicar o porque de cada resultado? Qual foi a melhor regularização? Por quê? O Momento melhorou os resultados? Por quê?\n",
        "\n",
        "Data de Entrega: 14/10/2020\n",
        "     \n",
        "      \n",
        "Complete a Tabela abaixo com os resultados\n",
        "\n",
        "\\begin{array}{|c|c|c|c|}\\hline\\\\ \\\\\n",
        "  Configuracao & 1 & 2 & 3 \\\\ \\hline\n",
        "L1 &  &  &   \\\\ \\hline\n",
        "L2  & & &  \\\\ \\hline\n",
        "Momento  & & & \\\\ \\hline\n",
        "\\end{array}\n",
        "\n",
        "\n",
        "\n",
        "\\\\\n",
        "Data de Entrega: 17/10/2020\n"
      ]
    }
  ],
  "metadata": {
    "accelerator": "GPU",
    "colab": {
      "name": "Backpropagation",
      "provenance": []
    },
    "kernelspec": {
      "display_name": ".venv",
      "language": "python",
      "name": "python3"
    },
    "language_info": {
      "codemirror_mode": {
        "name": "ipython",
        "version": 3
      },
      "file_extension": ".py",
      "mimetype": "text/x-python",
      "name": "python",
      "nbconvert_exporter": "python",
      "pygments_lexer": "ipython3",
      "version": "3.12.3"
    }
  },
  "nbformat": 4,
  "nbformat_minor": 0
}
