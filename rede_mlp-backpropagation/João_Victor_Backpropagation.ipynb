{
 "cells": [
  {
   "cell_type": "code",
   "execution_count": null,
   "metadata": {
    "colab": {
     "base_uri": "https://localhost:8080/"
    },
    "id": "gquVOlEzAIeg",
    "outputId": "fe57b938-8111-4e94-a6df-3405346b2b48"
   },
   "outputs": [],
   "source": [
    "!git clone https://github.com/valmirf/redes_neurais_pos.git"
   ]
  },
  {
   "cell_type": "markdown",
   "metadata": {
    "id": "PJEk_jQrrJXn"
   },
   "source": [
    "##Multipayer Perceptron (MLP)\n",
    "\n",
    "Rede Neural baseado no algoritmo de gradiente descendente.  \n",
    "Os gradientes são calculados usando backpropagation.\n",
    "\n",
    "Para mais detalhes, ver os capitulos 13 a 16 do livro no site:\n",
    "\n",
    "http://deeplearningbook.com.br/"
   ]
  },
  {
   "cell_type": "code",
   "execution_count": null,
   "metadata": {
    "id": "JNeeLtK58tGe"
   },
   "outputs": [],
   "source": [
    "import random\n",
    "import numpy as np"
   ]
  },
  {
   "cell_type": "markdown",
   "metadata": {
    "id": "BPjNMuBE8UcP"
   },
   "source": [
    "A entrada é uma lista (`sizes`) contém o número de neurônios nas respectivas camadas da rede. Por exemplo, se a lista for [2, 3, 1] então será uma rede de três camadas, com o primeira camada contendo 2 neurônios, a segunda camada 3 neurônios, e a terceira camada 1 neurônio. Os bias e pesos para a rede são inicializados aleatoriamente, usando uma distribuição Gaussiana com média 0 e variância 1. Note que a primeira camada é assumida como uma camada de entrada, e por convenção não definimos nenhum bias para esses neurônios, pois os bias são usados na computação das saídas das camadas posteriores.\n"
   ]
  },
  {
   "cell_type": "code",
   "execution_count": null,
   "metadata": {
    "id": "tGf77mI_vuzP"
   },
   "outputs": [],
   "source": [
    "# Classe Network\n",
    "class Network(object):\n",
    "\n",
    "    def __init__(self, sizes):\n",
    "        self.num_layers = len(sizes)  #número de neurônios em cada camada\n",
    "        self.sizes = sizes\n",
    "\n",
    "        #Inicialização dos pesos de forma mais adequada para o ReLu\n",
    "        self.biases = [np.random.randn(y, 1) * np.sqrt(2.0/x) * 0.5 for x, y in zip(sizes[:-1], sizes[1:])] # * 0.5 foi add como ajuste para taxas maiores\n",
    "        self.weights = [np.random.randn(y, x) * np.sqrt(2.0/x) * 0.5 for x, y in zip(sizes[:-1], sizes[1:])]\n",
    "\n",
    "        #Inicialização dos pesos padrão\n",
    "        # self.biases = [np.random.randn(y, 1) for y in sizes[1:]] #limiar\n",
    "        # self.weights = [np.random.randn(y, x) for x, y in zip(sizes[:-1], sizes[1:])] #pesos\n",
    "\n",
    "    def batch_normalize(self, x):\n",
    "      mean = np.mean(x, axis=0)\n",
    "      std = np.std(x, axis=0)\n",
    "      return (x - mean) / (std + 1e-8)\n",
    "\n",
    "    def feedforward(self, x):\n",
    "        \"\"\"Retorna a saída da rede z se `x` for entrada.\"\"\"\n",
    "        for b, w in zip(self.biases, self.weights):\n",
    "            x = self.batch_normalize(x)\n",
    "            x = sigmoid(np.dot(w, x)+b) #net = (∑xw+b)\n",
    "            #x = relu(np.dot(w, x)+b) #net = (∑xw+b)\n",
    "        return x\n",
    "\n",
    "    #def SGD(self, training_data, epochs, mini_batch_size, initial_eta, 𝜂, test_data=None):\n",
    "    def SGD(self, training_data, epochs, mini_batch_size, initial_eta, test_data=None):\n",
    "        \"\"\"Treinar a rede neural usando o algoritmo mini batch com gradiente descendente.\n",
    "         A entrada é uma lista de tuplas\n",
    "         `(x, y)` representando as entradas de treinamento e as\n",
    "         saídas. Os outros parâmetros não opcionais são\n",
    "         auto-explicativos. Se `test_data` for fornecido, então a\n",
    "         rede será avaliada em relação aos dados do teste após cada\n",
    "         época e progresso parcial impresso. Isso é útil para\n",
    "         acompanhar o progresso, mas retarda as coisas substancialmente.\"\"\"\n",
    "         \n",
    "        #dataset de treino\n",
    "        training_data = list(training_data)\n",
    "        n = len(training_data)\n",
    "\n",
    "        #dataset de teste\n",
    "        if test_data:\n",
    "            test_data = list(test_data)\n",
    "            n_test = len(test_data)\n",
    "        \n",
    "        accuracies = []\n",
    "\n",
    "        for j in range(epochs):\n",
    "            𝜂 = initial_eta * (0.1 ** (j / 20))\n",
    "            random.shuffle(training_data)\n",
    "            #técnica que realiza o treinamento por lotes\n",
    "            #mini_batch_size = tamanho do lote\n",
    "            mini_batches = [training_data[k:k + mini_batch_size] for k in range(0, n, mini_batch_size)]\n",
    "\n",
    "            for mini_batch in mini_batches:\n",
    "                self.update_mini_batch(mini_batch, 𝜂)\n",
    "\n",
    "            if test_data:\n",
    "                acc = self.evaluate(test_data)\n",
    "                accuracies.append((acc*100) / n_test)\n",
    "                print(\"Epoch {} : {} / {} = {:.2f}%\".format(j, acc, n_test, (acc * 100) / n_test))\n",
    "            else:\n",
    "                print(\"Epoch {} finalizada\".format(j))\n",
    "            \n",
    "        if test_data:\n",
    "            avg_accuracy = np.mean(accuracies)\n",
    "            print(\"\\nAcurácia média após {} épocas: {:.2f}%\".format(epochs, avg_accuracy))\n",
    "    \n",
    "    \n",
    "    \n",
    "    def update_mini_batch(self, mini_batch, 𝜂):\n",
    "        \"\"\"Atualiza os pesos e limiares da rede aplicando\n",
    "         a descida do gradiente usando backpropagation para um único mini lote.\n",
    "         O `mini_batch` é uma lista de tuplas `(x, y)`, e `a` é a taxa de aprendizado.\"\"\"\n",
    "\n",
    "        #inicializa matriz com derivadas de pesos e limiares\n",
    "        nabla_w = [np.zeros(w.shape) for w in self.weights]\n",
    "        nabla_b = [np.zeros(b.shape) for b in self.biases]\n",
    "\n",
    "        for x, y in mini_batch:\n",
    "            #resultado dos deltas do backpropagation sem a multiplicação da taxa de aprendizagem\n",
    "            #soma os deltas do minibatch\n",
    "            delta_nabla_b, delta_nabla_w = self.backprop(x, y)\n",
    "            nabla_w = [nw+dnw for nw, dnw in zip(nabla_w, delta_nabla_w)]\n",
    "            nabla_b = [nb+dnb for nb, dnb in zip(nabla_b, delta_nabla_b)]\n",
    "\n",
    "\n",
    "        #atualiza pesos e limiares (𝜂*𝛿*f’(net)*𝑥)\n",
    "        self.weights = [w-(𝜂/len(mini_batch))*nw for w, nw in zip(self.weights, nabla_w)]\n",
    "        self.biases = [b-(𝜂/len(mini_batch))*nb for b, nb in zip(self.biases, nabla_b)]\n",
    "\n",
    "    def backprop(self, x, y):\n",
    "        \"\"\"Retorna uma tupla `(nabla_b, nabla_w)` representando o\n",
    "         gradiente para a função de custo J_x. `nabla_b` e\n",
    "         `nabla_w` são listas de camadas de matrizes numpy, semelhantes\n",
    "         a `self.biases` e `self.weights`.\"\"\"\n",
    "        nabla_w = [np.zeros(w.shape) for w in self.weights]\n",
    "        nabla_b = [np.zeros(b.shape) for b in self.biases]\n",
    "\n",
    "        # Feedforward\n",
    "        activation = x\n",
    "\n",
    "        # Lista para armazenar todas as saídas dos neurônios (z), camada por camada\n",
    "        activations = [x]\n",
    "\n",
    "        # Lista para armazenar todos os vetores net, camada por camada\n",
    "        nets = []\n",
    "\n",
    "        for b, w in zip(self.biases, self.weights):\n",
    "            net = np.dot(w, activation)+b\n",
    "            nets.append(net)\n",
    "            #activation = sigmoid(net) #z = valor de saída do neurônio\n",
    "            activation = relu(net) #z = valor de saída do neurônio\n",
    "            activations.append(activation)\n",
    "\n",
    "        # Backward pass\n",
    "\n",
    "        #última camada -(u-z)f'(net)\n",
    "        #delta = self.cost_derivative(activations[-1], y) * sigmoid_prime(nets[-1]) #SIGMOID\n",
    "        delta = self.cost_derivative(activations[-1], y) * relu_prime(nets[-1]) #RELU\n",
    "        nabla_b[-1] = delta\n",
    "        nabla_w[-1] = np.dot(delta, activations[-2].transpose()) #(𝑦−𝑧)*f’(net)*𝑥\n",
    "\n",
    "        # l = 1 significa a última camada de neurônios, l = 2 é a penúltima e assim por diante.\n",
    "        for l in range(2, self.num_layers):\n",
    "            net = nets[-l]\n",
    "            #zs = sigmoid_prime(net)\n",
    "            zs = relu_prime(net)\n",
    "            #delta da camada intermediaria. Note que utiliza o delta calculado anteriormente\n",
    "            delta = np.dot(self.weights[-l+1].transpose(), delta) * zs\n",
    "            nabla_b[-l] = delta\n",
    "            nabla_w[-l] = np.dot(delta, activations[-l-1].transpose()) #∑(𝛿𝑤)f’(net)𝑥\n",
    "        return (nabla_b, nabla_w)\n",
    "\n",
    "    def evaluate(self, test_data):\n",
    "        \"\"\"Retorna o número de entradas de teste para as quais a rede neural\n",
    "         produz o resultado correto. Note que a saída da rede neural\n",
    "         é considerada o índice de qualquer que seja\n",
    "         neurônio na camada final que tenha a maior ativação.\"\"\"\n",
    "\n",
    "        test_results = [(np.argmax(self.feedforward(x)), y) for (x, y) in test_data]\n",
    "        return sum(int(x == y) for (x, y) in test_results)\n",
    "\n",
    "    def cost_derivative(self, output_activations, y):\n",
    "        \"\"\"Retorna o vetor das derivadas parciais.\"\"\"\n",
    "        return (output_activations-y)\n",
    "\n",
    "# Função de Ativação Sigmóide\n",
    "def sigmoid(net):\n",
    "    return 1.0/(1.0+np.exp(-net))\n",
    "\n",
    "# Função para retornar as derivadas da função Sigmóide\n",
    "def sigmoid_prime(z):\n",
    "    return sigmoid(z)*(1-sigmoid(z))\n",
    "\n",
    "# Função de Ativação ReLu\n",
    "def relu(net):\n",
    "    return np.maximum(0, net)\n",
    "\n",
    "# Função para retornar as derivadas da função ReLu\n",
    "def relu_prime(z):\n",
    "    return np.where(z <= 0, 0, 1)\n"
   ]
  },
  {
   "cell_type": "markdown",
   "metadata": {
    "id": "6lndK7bt9F6d"
   },
   "source": [
    "Como exemplo, essa mesma rede será executada na base de dados MNIST. O codigo abaixo carrega a base de dados."
   ]
  },
  {
   "cell_type": "code",
   "execution_count": null,
   "metadata": {
    "id": "KOZwqOkDv3t-"
   },
   "outputs": [],
   "source": [
    "# Carregar o dataset MNIST\n",
    "\n",
    "# Imports\n",
    "import pickle\n",
    "import gzip\n",
    "import numpy as np\n",
    "\n",
    "def load_data():\n",
    "    f = gzip.open('redes_neurais_pos/MLP/mnist.pkl.gz', 'rb')\n",
    "    training_data, validation_data, test_data = pickle.load(f, encoding=\"latin1\")\n",
    "    f.close()\n",
    "    return (training_data, validation_data, test_data)\n",
    "\n",
    "def load_data_wrapper():\n",
    "    tr_d, va_d, te_d = load_data()\n",
    "    training_inputs = [np.reshape(x, (784, 1)) for x in tr_d[0]]\n",
    "    training_results = [vectorized_result(y) for y in tr_d[1]]\n",
    "    training_data = zip(training_inputs, training_results)\n",
    "    validation_inputs = [np.reshape(x, (784, 1)) for x in va_d[0]]\n",
    "    validation_data = zip(validation_inputs, va_d[1])\n",
    "    test_inputs = [np.reshape(x, (784, 1)) for x in te_d[0]]\n",
    "    test_data = zip(test_inputs, te_d[1])\n",
    "    return (training_data, validation_data, test_data)\n",
    "\n",
    "def vectorized_result(j):\n",
    "    e = np.zeros((10, 1))\n",
    "    e[j] = 1.0\n",
    "    return e\n"
   ]
  },
  {
   "cell_type": "markdown",
   "metadata": {
    "id": "a2V5r3YW95A4"
   },
   "source": [
    "#Executa a rede neural\n",
    "\n",
    "Parâmetros de rede:\n",
    "         2º param é contagem de épocas\n",
    "         3º param é tamanho do lote\n",
    "         4º param é a taxa de aprendizado (𝜂)\n",
    "\n",
    "\n"
   ]
  },
  {
   "cell_type": "code",
   "execution_count": null,
   "metadata": {
    "colab": {
     "base_uri": "https://localhost:8080/"
    },
    "id": "7c86ya6KrquI",
    "outputId": "b5561f6b-5037-46f2-fe5b-5ed201967bbf"
   },
   "outputs": [],
   "source": [
    "#Modificar o código para tratar corretamente as arquiteturas\n",
    "\n",
    "learning_rate = [0.1, 0.3, 0.5]\n",
    "\n",
    "one_layer_arquitecture = [\n",
    "  [784, 10, 10],\n",
    "  [784, 20, 10],\n",
    "  [784, 30, 10]\n",
    "]\n",
    "\n",
    "two_layer_arquitecture = [\n",
    "  [784, 20, 15, 10],\n",
    "  [784, 30, 20, 10],\n",
    "  [784, 40, 25, 10]\n",
    "]\n",
    "\n",
    "architectures = [one_layer_arquitecture, two_layer_arquitecture]\n",
    "\n",
    "for arq_grupo in architectures:\n",
    "    print(f\"Executando com grupo das seguintes configurações: {arq_grupo}\\n\")\n",
    "    for arq in arq_grupo:\n",
    "        print(f\"Configuração especifica a ser testada: {arq}\")\n",
    "        print(\"----------------------------------------------------\")\n",
    "        for lr in learning_rate:\n",
    "            training_data, validation_data, test_data = load_data_wrapper()\n",
    "            training_data = list(training_data)\n",
    "\n",
    "            # Criar a rede com a arquitetura específica\n",
    "            mlp = Network(arq)\n",
    "            print(f\"Executando com taxa de aprendizado de {lr}\")\n",
    "            mlp.SGD(training_data, 10, 32, lr, test_data=test_data)\n",
    "            print(\"\\n\")\n",
    "\n",
    "print(\"Fim dos testes!\")"
   ]
  },
  {
   "cell_type": "markdown",
   "metadata": {},
   "source": [
    "Realizando decrescimo da taxa de aprendizado para diminuir com o tempo"
   ]
  },
  {
   "cell_type": "code",
   "execution_count": null,
   "metadata": {},
   "outputs": [],
   "source": [
    "#MELHOR CONFIGURAÇÃO\n",
    "training_data, validation_data, test_data = load_data_wrapper()\n",
    "training_data = list(training_data)\n",
    "\n",
    "#arquitetura da rede\n",
    "arquitecture = [784, 30, 10]\n",
    "mlp = Network(arquitecture)\n",
    "\n",
    "mlp.SGD(training_data, epochs=10, mini_batch_size=32, initial_eta=0.5, test_data=test_data)\n"
   ]
  },
  {
   "cell_type": "markdown",
   "metadata": {
    "id": "rLJbbYrFdU_w"
   },
   "source": [
    "##**Mini-Projeto**\n",
    "1) Realizar avaliações modificando os seguintes parâmetros:     \n",
    "\n",
    "     a) Taxa de aprendizagem: 0.1, 0.3 e 0.5\n",
    "     b) Função de ativação RELU\n",
    "     c) Rede com uma camada intermediária com 3 configurações diferentes (Explicite a configuração utilizada)\n",
    "     d) Rede com duas camadas intermediárias com 3 configurações diferentes (Explicite a configuração utilizada)\n",
    "     \n",
    "      \n",
    "Complete a Tabela abaixo com os resultados (Pra cada configuração de camadas intermediárias, execute as 3 taxas de aprendizagem pra função de ativação Sigmoide e Relu):\n",
    "\n",
    "\n",
    "\\begin{array}{|c|ccc|ccc|ccc|}\\hline\\\\ \\\\\n",
    "  1\\;Camada\\;Intermediária & & \\mathcal{𝜂=0.1} & &  & \\mathcal{𝜂=0.3} & & & \\mathcal{𝜂=0.5} &  & \\\\ \\hline\n",
    "Configurações & 1 & 2 & 3 & 1 & 2 & 3 & 1 & 2 & 3 & \\\\ \\hline\n",
    "Sigmoide  & 37.53& 44.70& 51.58& 59.85&  68.13& 62.72& 59.85&  71.61&  68.78& \\\\ \\hline\n",
    "Relu  & 59.31& 81.87& 83.02&  51.71&  81.45& 72.41& 22.18& 40.52 & 71.82 & \\\\ \\hline\n",
    "  2\\;Camadas\\;Intermediárias & & \\mathcal{𝜂=0.1} & &  & \\mathcal{𝜂=0.3} & & & \\mathcal{𝜂=0.5} &  & \\\\ \\hline\n",
    "Configurações & 1 & 2 & 3 & 1 & 2 & 3 & 1 & 2 & 3 & \\\\ \\hline\n",
    "Sigmoide  & 47.03& 28.20& 42.44& 55.66 & 60.58 & 68.31& 65.45& 54.76 & 60.55 & \\\\ \\hline\n",
    "Relu  & 71.54& 70.71& 75.04& 70.32 & 80.55 & 75.58& 61.60& 75.97 & 55.81 & \\\\ \\hline\n",
    "\\end{array}\n",
    "\n",
    "2) Modifique a taxa de aprendizagem pra diminuir com o tempo. Execute com a melhor configuração encontrada. Melhorou o resultado?\n",
    "\n",
    "R - Não. Caiu para 60.81"
   ]
  }
 ],
 "metadata": {
  "accelerator": "GPU",
  "colab": {
   "provenance": []
  },
  "kernelspec": {
   "display_name": ".venv",
   "language": "python",
   "name": "python3"
  },
  "language_info": {
   "codemirror_mode": {
    "name": "ipython",
    "version": 3
   },
   "file_extension": ".py",
   "mimetype": "text/x-python",
   "name": "python",
   "nbconvert_exporter": "python",
   "pygments_lexer": "ipython3",
   "version": "3.12.3"
  }
 },
 "nbformat": 4,
 "nbformat_minor": 0
}
